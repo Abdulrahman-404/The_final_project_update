{
 "cells": [
  {
   "cell_type": "markdown",
   "id": "dedc058f",
   "metadata": {},
   "source": [
    "# Importing Libiraries"
   ]
  },
  {
   "cell_type": "code",
   "execution_count": 33,
   "id": "0932b70a",
   "metadata": {},
   "outputs": [],
   "source": [
    "import numpy as np  # for math operations\n",
    "import pandas as pd # for reading dataset\n",
    "import matplotlib.pyplot as plt    #Library for graph\n",
    "import seaborn as sns     #Library for graph\n",
    "from sklearn.model_selection import train_test_split #to split data into train and test\n",
    "from sklearn.preprocessing import StandardScaler # to scale the data (between -1 and 1)\n",
    "from sklearn.tree import DecisionTreeClassifier  # to use decision tree\n",
    "from sklearn import metrics\n",
    "from sklearn.metrics import accuracy_score     # to get accuracy score\n",
    "import plotly.graph_objects as go"
   ]
  },
  {
   "cell_type": "markdown",
   "id": "59c734d2",
   "metadata": {},
   "source": [
    "# Loading data"
   ]
  },
  {
   "cell_type": "code",
   "execution_count": 5,
   "id": "14c6f0e9",
   "metadata": {},
   "outputs": [],
   "source": [
    "path =  (r'D:\\card_transdata.csv')\n",
    "\n",
    "data= pd.read_csv(path)"
   ]
  },
  {
   "cell_type": "markdown",
   "id": "5c478dca",
   "metadata": {},
   "source": [
    "# Data Info"
   ]
  },
  {
   "cell_type": "code",
   "execution_count": 6,
   "id": "9eb02994",
   "metadata": {},
   "outputs": [
    {
     "name": "stdout",
     "output_type": "stream",
     "text": [
      "<class 'pandas.core.frame.DataFrame'>\n",
      "RangeIndex: 1000000 entries, 0 to 999999\n",
      "Data columns (total 8 columns):\n",
      " #   Column                          Non-Null Count    Dtype  \n",
      "---  ------                          --------------    -----  \n",
      " 0   distance_from_home              1000000 non-null  float64\n",
      " 1   distance_from_last_transaction  1000000 non-null  float64\n",
      " 2   ratio_to_median_purchase_price  1000000 non-null  float64\n",
      " 3   repeat_retailer                 1000000 non-null  float64\n",
      " 4   used_chip                       1000000 non-null  float64\n",
      " 5   used_pin_number                 1000000 non-null  float64\n",
      " 6   online_order                    1000000 non-null  float64\n",
      " 7   fraud                           1000000 non-null  float64\n",
      "dtypes: float64(8)\n",
      "memory usage: 61.0 MB\n"
     ]
    }
   ],
   "source": [
    "data.info()"
   ]
  },
  {
   "cell_type": "code",
   "execution_count": 7,
   "id": "905dfcfd",
   "metadata": {},
   "outputs": [
    {
     "name": "stdout",
     "output_type": "stream",
     "text": [
      "Dimensions are :  (1000000, 8)\n"
     ]
    }
   ],
   "source": [
    "print(\"Dimensions are : \", data.shape) #to print data dimensions"
   ]
  },
  {
   "cell_type": "code",
   "execution_count": 8,
   "id": "71807216",
   "metadata": {},
   "outputs": [
    {
     "data": {
      "text/html": [
       "<style type=\"text/css\">\n",
       "#T_d1a8f_row0_col0, #T_d1a8f_row0_col1, #T_d1a8f_row0_col2, #T_d1a8f_row0_col3, #T_d1a8f_row0_col4, #T_d1a8f_row0_col5, #T_d1a8f_row0_col6, #T_d1a8f_row0_col7, #T_d1a8f_row1_col0, #T_d1a8f_row1_col1, #T_d1a8f_row1_col2, #T_d1a8f_row1_col3, #T_d1a8f_row1_col4, #T_d1a8f_row1_col5, #T_d1a8f_row1_col6, #T_d1a8f_row1_col7, #T_d1a8f_row2_col0, #T_d1a8f_row2_col1, #T_d1a8f_row2_col2, #T_d1a8f_row2_col3, #T_d1a8f_row2_col4, #T_d1a8f_row2_col5, #T_d1a8f_row2_col6, #T_d1a8f_row2_col7, #T_d1a8f_row3_col0, #T_d1a8f_row3_col1, #T_d1a8f_row3_col2, #T_d1a8f_row3_col3, #T_d1a8f_row3_col4, #T_d1a8f_row3_col5, #T_d1a8f_row3_col6, #T_d1a8f_row3_col7, #T_d1a8f_row4_col0, #T_d1a8f_row4_col1, #T_d1a8f_row4_col2, #T_d1a8f_row4_col3, #T_d1a8f_row4_col4, #T_d1a8f_row4_col5, #T_d1a8f_row4_col6, #T_d1a8f_row4_col7 {\n",
       "  background-color: black;\n",
       "  color: lawngreen;\n",
       "  border-color: Black;\n",
       "}\n",
       "</style>\n",
       "<table id=\"T_d1a8f\">\n",
       "  <thead>\n",
       "    <tr>\n",
       "      <th class=\"blank level0\" >&nbsp;</th>\n",
       "      <th id=\"T_d1a8f_level0_col0\" class=\"col_heading level0 col0\" >distance_from_home</th>\n",
       "      <th id=\"T_d1a8f_level0_col1\" class=\"col_heading level0 col1\" >distance_from_last_transaction</th>\n",
       "      <th id=\"T_d1a8f_level0_col2\" class=\"col_heading level0 col2\" >ratio_to_median_purchase_price</th>\n",
       "      <th id=\"T_d1a8f_level0_col3\" class=\"col_heading level0 col3\" >repeat_retailer</th>\n",
       "      <th id=\"T_d1a8f_level0_col4\" class=\"col_heading level0 col4\" >used_chip</th>\n",
       "      <th id=\"T_d1a8f_level0_col5\" class=\"col_heading level0 col5\" >used_pin_number</th>\n",
       "      <th id=\"T_d1a8f_level0_col6\" class=\"col_heading level0 col6\" >online_order</th>\n",
       "      <th id=\"T_d1a8f_level0_col7\" class=\"col_heading level0 col7\" >fraud</th>\n",
       "    </tr>\n",
       "  </thead>\n",
       "  <tbody>\n",
       "    <tr>\n",
       "      <th id=\"T_d1a8f_level0_row0\" class=\"row_heading level0 row0\" >0</th>\n",
       "      <td id=\"T_d1a8f_row0_col0\" class=\"data row0 col0\" >57.877857</td>\n",
       "      <td id=\"T_d1a8f_row0_col1\" class=\"data row0 col1\" >0.311140</td>\n",
       "      <td id=\"T_d1a8f_row0_col2\" class=\"data row0 col2\" >1.945940</td>\n",
       "      <td id=\"T_d1a8f_row0_col3\" class=\"data row0 col3\" >1.000000</td>\n",
       "      <td id=\"T_d1a8f_row0_col4\" class=\"data row0 col4\" >1.000000</td>\n",
       "      <td id=\"T_d1a8f_row0_col5\" class=\"data row0 col5\" >0.000000</td>\n",
       "      <td id=\"T_d1a8f_row0_col6\" class=\"data row0 col6\" >0.000000</td>\n",
       "      <td id=\"T_d1a8f_row0_col7\" class=\"data row0 col7\" >0.000000</td>\n",
       "    </tr>\n",
       "    <tr>\n",
       "      <th id=\"T_d1a8f_level0_row1\" class=\"row_heading level0 row1\" >1</th>\n",
       "      <td id=\"T_d1a8f_row1_col0\" class=\"data row1 col0\" >10.829943</td>\n",
       "      <td id=\"T_d1a8f_row1_col1\" class=\"data row1 col1\" >0.175592</td>\n",
       "      <td id=\"T_d1a8f_row1_col2\" class=\"data row1 col2\" >1.294219</td>\n",
       "      <td id=\"T_d1a8f_row1_col3\" class=\"data row1 col3\" >1.000000</td>\n",
       "      <td id=\"T_d1a8f_row1_col4\" class=\"data row1 col4\" >0.000000</td>\n",
       "      <td id=\"T_d1a8f_row1_col5\" class=\"data row1 col5\" >0.000000</td>\n",
       "      <td id=\"T_d1a8f_row1_col6\" class=\"data row1 col6\" >0.000000</td>\n",
       "      <td id=\"T_d1a8f_row1_col7\" class=\"data row1 col7\" >0.000000</td>\n",
       "    </tr>\n",
       "    <tr>\n",
       "      <th id=\"T_d1a8f_level0_row2\" class=\"row_heading level0 row2\" >2</th>\n",
       "      <td id=\"T_d1a8f_row2_col0\" class=\"data row2 col0\" >5.091079</td>\n",
       "      <td id=\"T_d1a8f_row2_col1\" class=\"data row2 col1\" >0.805153</td>\n",
       "      <td id=\"T_d1a8f_row2_col2\" class=\"data row2 col2\" >0.427715</td>\n",
       "      <td id=\"T_d1a8f_row2_col3\" class=\"data row2 col3\" >1.000000</td>\n",
       "      <td id=\"T_d1a8f_row2_col4\" class=\"data row2 col4\" >0.000000</td>\n",
       "      <td id=\"T_d1a8f_row2_col5\" class=\"data row2 col5\" >0.000000</td>\n",
       "      <td id=\"T_d1a8f_row2_col6\" class=\"data row2 col6\" >1.000000</td>\n",
       "      <td id=\"T_d1a8f_row2_col7\" class=\"data row2 col7\" >0.000000</td>\n",
       "    </tr>\n",
       "    <tr>\n",
       "      <th id=\"T_d1a8f_level0_row3\" class=\"row_heading level0 row3\" >3</th>\n",
       "      <td id=\"T_d1a8f_row3_col0\" class=\"data row3 col0\" >2.247564</td>\n",
       "      <td id=\"T_d1a8f_row3_col1\" class=\"data row3 col1\" >5.600044</td>\n",
       "      <td id=\"T_d1a8f_row3_col2\" class=\"data row3 col2\" >0.362663</td>\n",
       "      <td id=\"T_d1a8f_row3_col3\" class=\"data row3 col3\" >1.000000</td>\n",
       "      <td id=\"T_d1a8f_row3_col4\" class=\"data row3 col4\" >1.000000</td>\n",
       "      <td id=\"T_d1a8f_row3_col5\" class=\"data row3 col5\" >0.000000</td>\n",
       "      <td id=\"T_d1a8f_row3_col6\" class=\"data row3 col6\" >1.000000</td>\n",
       "      <td id=\"T_d1a8f_row3_col7\" class=\"data row3 col7\" >0.000000</td>\n",
       "    </tr>\n",
       "    <tr>\n",
       "      <th id=\"T_d1a8f_level0_row4\" class=\"row_heading level0 row4\" >4</th>\n",
       "      <td id=\"T_d1a8f_row4_col0\" class=\"data row4 col0\" >44.190936</td>\n",
       "      <td id=\"T_d1a8f_row4_col1\" class=\"data row4 col1\" >0.566486</td>\n",
       "      <td id=\"T_d1a8f_row4_col2\" class=\"data row4 col2\" >2.222767</td>\n",
       "      <td id=\"T_d1a8f_row4_col3\" class=\"data row4 col3\" >1.000000</td>\n",
       "      <td id=\"T_d1a8f_row4_col4\" class=\"data row4 col4\" >1.000000</td>\n",
       "      <td id=\"T_d1a8f_row4_col5\" class=\"data row4 col5\" >0.000000</td>\n",
       "      <td id=\"T_d1a8f_row4_col6\" class=\"data row4 col6\" >1.000000</td>\n",
       "      <td id=\"T_d1a8f_row4_col7\" class=\"data row4 col7\" >0.000000</td>\n",
       "    </tr>\n",
       "  </tbody>\n",
       "</table>\n"
      ],
      "text/plain": [
       "<pandas.io.formats.style.Styler at 0x1a595e406d0>"
      ]
     },
     "execution_count": 8,
     "metadata": {},
     "output_type": "execute_result"
    }
   ],
   "source": [
    "data.head().style.set_properties(**{'background-color': 'black', 'color': 'lawngreen', 'border-color': 'Black'}) # printing the f"
   ]
  },
  {
   "cell_type": "code",
   "execution_count": 9,
   "id": "b156fac4",
   "metadata": {},
   "outputs": [
    {
     "data": {
      "text/html": [
       "<style type=\"text/css\">\n",
       "#T_0b63a_row0_col0, #T_0b63a_row0_col1, #T_0b63a_row0_col2, #T_0b63a_row0_col3, #T_0b63a_row0_col4, #T_0b63a_row0_col5, #T_0b63a_row0_col6, #T_0b63a_row0_col7, #T_0b63a_row1_col0, #T_0b63a_row1_col1, #T_0b63a_row1_col2, #T_0b63a_row1_col3, #T_0b63a_row1_col4, #T_0b63a_row1_col5, #T_0b63a_row1_col6, #T_0b63a_row1_col7, #T_0b63a_row2_col0, #T_0b63a_row2_col1, #T_0b63a_row2_col2, #T_0b63a_row2_col3, #T_0b63a_row2_col4, #T_0b63a_row2_col5, #T_0b63a_row2_col6, #T_0b63a_row2_col7, #T_0b63a_row3_col0, #T_0b63a_row3_col1, #T_0b63a_row3_col2, #T_0b63a_row3_col3, #T_0b63a_row3_col4, #T_0b63a_row3_col5, #T_0b63a_row3_col6, #T_0b63a_row3_col7, #T_0b63a_row4_col0, #T_0b63a_row4_col1, #T_0b63a_row4_col2, #T_0b63a_row4_col3, #T_0b63a_row4_col4, #T_0b63a_row4_col5, #T_0b63a_row4_col6, #T_0b63a_row4_col7, #T_0b63a_row5_col0, #T_0b63a_row5_col1, #T_0b63a_row5_col2, #T_0b63a_row5_col3, #T_0b63a_row5_col4, #T_0b63a_row5_col5, #T_0b63a_row5_col6, #T_0b63a_row5_col7, #T_0b63a_row6_col0, #T_0b63a_row6_col1, #T_0b63a_row6_col2, #T_0b63a_row6_col3, #T_0b63a_row6_col4, #T_0b63a_row6_col5, #T_0b63a_row6_col6, #T_0b63a_row6_col7, #T_0b63a_row7_col0, #T_0b63a_row7_col1, #T_0b63a_row7_col2, #T_0b63a_row7_col3, #T_0b63a_row7_col4, #T_0b63a_row7_col5, #T_0b63a_row7_col6, #T_0b63a_row7_col7 {\n",
       "  background-color: black;\n",
       "  color: lawngreen;\n",
       "  border-color: Black;\n",
       "}\n",
       "</style>\n",
       "<table id=\"T_0b63a\">\n",
       "  <thead>\n",
       "    <tr>\n",
       "      <th class=\"blank level0\" >&nbsp;</th>\n",
       "      <th id=\"T_0b63a_level0_col0\" class=\"col_heading level0 col0\" >count</th>\n",
       "      <th id=\"T_0b63a_level0_col1\" class=\"col_heading level0 col1\" >mean</th>\n",
       "      <th id=\"T_0b63a_level0_col2\" class=\"col_heading level0 col2\" >std</th>\n",
       "      <th id=\"T_0b63a_level0_col3\" class=\"col_heading level0 col3\" >min</th>\n",
       "      <th id=\"T_0b63a_level0_col4\" class=\"col_heading level0 col4\" >25%</th>\n",
       "      <th id=\"T_0b63a_level0_col5\" class=\"col_heading level0 col5\" >50%</th>\n",
       "      <th id=\"T_0b63a_level0_col6\" class=\"col_heading level0 col6\" >75%</th>\n",
       "      <th id=\"T_0b63a_level0_col7\" class=\"col_heading level0 col7\" >max</th>\n",
       "    </tr>\n",
       "  </thead>\n",
       "  <tbody>\n",
       "    <tr>\n",
       "      <th id=\"T_0b63a_level0_row0\" class=\"row_heading level0 row0\" >distance_from_home</th>\n",
       "      <td id=\"T_0b63a_row0_col0\" class=\"data row0 col0\" >1000000.000000</td>\n",
       "      <td id=\"T_0b63a_row0_col1\" class=\"data row0 col1\" >26.628792</td>\n",
       "      <td id=\"T_0b63a_row0_col2\" class=\"data row0 col2\" >65.390784</td>\n",
       "      <td id=\"T_0b63a_row0_col3\" class=\"data row0 col3\" >0.004874</td>\n",
       "      <td id=\"T_0b63a_row0_col4\" class=\"data row0 col4\" >3.878008</td>\n",
       "      <td id=\"T_0b63a_row0_col5\" class=\"data row0 col5\" >9.967760</td>\n",
       "      <td id=\"T_0b63a_row0_col6\" class=\"data row0 col6\" >25.743985</td>\n",
       "      <td id=\"T_0b63a_row0_col7\" class=\"data row0 col7\" >10632.723672</td>\n",
       "    </tr>\n",
       "    <tr>\n",
       "      <th id=\"T_0b63a_level0_row1\" class=\"row_heading level0 row1\" >distance_from_last_transaction</th>\n",
       "      <td id=\"T_0b63a_row1_col0\" class=\"data row1 col0\" >1000000.000000</td>\n",
       "      <td id=\"T_0b63a_row1_col1\" class=\"data row1 col1\" >5.036519</td>\n",
       "      <td id=\"T_0b63a_row1_col2\" class=\"data row1 col2\" >25.843093</td>\n",
       "      <td id=\"T_0b63a_row1_col3\" class=\"data row1 col3\" >0.000118</td>\n",
       "      <td id=\"T_0b63a_row1_col4\" class=\"data row1 col4\" >0.296671</td>\n",
       "      <td id=\"T_0b63a_row1_col5\" class=\"data row1 col5\" >0.998650</td>\n",
       "      <td id=\"T_0b63a_row1_col6\" class=\"data row1 col6\" >3.355748</td>\n",
       "      <td id=\"T_0b63a_row1_col7\" class=\"data row1 col7\" >11851.104565</td>\n",
       "    </tr>\n",
       "    <tr>\n",
       "      <th id=\"T_0b63a_level0_row2\" class=\"row_heading level0 row2\" >ratio_to_median_purchase_price</th>\n",
       "      <td id=\"T_0b63a_row2_col0\" class=\"data row2 col0\" >1000000.000000</td>\n",
       "      <td id=\"T_0b63a_row2_col1\" class=\"data row2 col1\" >1.824182</td>\n",
       "      <td id=\"T_0b63a_row2_col2\" class=\"data row2 col2\" >2.799589</td>\n",
       "      <td id=\"T_0b63a_row2_col3\" class=\"data row2 col3\" >0.004399</td>\n",
       "      <td id=\"T_0b63a_row2_col4\" class=\"data row2 col4\" >0.475673</td>\n",
       "      <td id=\"T_0b63a_row2_col5\" class=\"data row2 col5\" >0.997717</td>\n",
       "      <td id=\"T_0b63a_row2_col6\" class=\"data row2 col6\" >2.096370</td>\n",
       "      <td id=\"T_0b63a_row2_col7\" class=\"data row2 col7\" >267.802942</td>\n",
       "    </tr>\n",
       "    <tr>\n",
       "      <th id=\"T_0b63a_level0_row3\" class=\"row_heading level0 row3\" >repeat_retailer</th>\n",
       "      <td id=\"T_0b63a_row3_col0\" class=\"data row3 col0\" >1000000.000000</td>\n",
       "      <td id=\"T_0b63a_row3_col1\" class=\"data row3 col1\" >0.881536</td>\n",
       "      <td id=\"T_0b63a_row3_col2\" class=\"data row3 col2\" >0.323157</td>\n",
       "      <td id=\"T_0b63a_row3_col3\" class=\"data row3 col3\" >0.000000</td>\n",
       "      <td id=\"T_0b63a_row3_col4\" class=\"data row3 col4\" >1.000000</td>\n",
       "      <td id=\"T_0b63a_row3_col5\" class=\"data row3 col5\" >1.000000</td>\n",
       "      <td id=\"T_0b63a_row3_col6\" class=\"data row3 col6\" >1.000000</td>\n",
       "      <td id=\"T_0b63a_row3_col7\" class=\"data row3 col7\" >1.000000</td>\n",
       "    </tr>\n",
       "    <tr>\n",
       "      <th id=\"T_0b63a_level0_row4\" class=\"row_heading level0 row4\" >used_chip</th>\n",
       "      <td id=\"T_0b63a_row4_col0\" class=\"data row4 col0\" >1000000.000000</td>\n",
       "      <td id=\"T_0b63a_row4_col1\" class=\"data row4 col1\" >0.350399</td>\n",
       "      <td id=\"T_0b63a_row4_col2\" class=\"data row4 col2\" >0.477095</td>\n",
       "      <td id=\"T_0b63a_row4_col3\" class=\"data row4 col3\" >0.000000</td>\n",
       "      <td id=\"T_0b63a_row4_col4\" class=\"data row4 col4\" >0.000000</td>\n",
       "      <td id=\"T_0b63a_row4_col5\" class=\"data row4 col5\" >0.000000</td>\n",
       "      <td id=\"T_0b63a_row4_col6\" class=\"data row4 col6\" >1.000000</td>\n",
       "      <td id=\"T_0b63a_row4_col7\" class=\"data row4 col7\" >1.000000</td>\n",
       "    </tr>\n",
       "    <tr>\n",
       "      <th id=\"T_0b63a_level0_row5\" class=\"row_heading level0 row5\" >used_pin_number</th>\n",
       "      <td id=\"T_0b63a_row5_col0\" class=\"data row5 col0\" >1000000.000000</td>\n",
       "      <td id=\"T_0b63a_row5_col1\" class=\"data row5 col1\" >0.100608</td>\n",
       "      <td id=\"T_0b63a_row5_col2\" class=\"data row5 col2\" >0.300809</td>\n",
       "      <td id=\"T_0b63a_row5_col3\" class=\"data row5 col3\" >0.000000</td>\n",
       "      <td id=\"T_0b63a_row5_col4\" class=\"data row5 col4\" >0.000000</td>\n",
       "      <td id=\"T_0b63a_row5_col5\" class=\"data row5 col5\" >0.000000</td>\n",
       "      <td id=\"T_0b63a_row5_col6\" class=\"data row5 col6\" >0.000000</td>\n",
       "      <td id=\"T_0b63a_row5_col7\" class=\"data row5 col7\" >1.000000</td>\n",
       "    </tr>\n",
       "    <tr>\n",
       "      <th id=\"T_0b63a_level0_row6\" class=\"row_heading level0 row6\" >online_order</th>\n",
       "      <td id=\"T_0b63a_row6_col0\" class=\"data row6 col0\" >1000000.000000</td>\n",
       "      <td id=\"T_0b63a_row6_col1\" class=\"data row6 col1\" >0.650552</td>\n",
       "      <td id=\"T_0b63a_row6_col2\" class=\"data row6 col2\" >0.476796</td>\n",
       "      <td id=\"T_0b63a_row6_col3\" class=\"data row6 col3\" >0.000000</td>\n",
       "      <td id=\"T_0b63a_row6_col4\" class=\"data row6 col4\" >0.000000</td>\n",
       "      <td id=\"T_0b63a_row6_col5\" class=\"data row6 col5\" >1.000000</td>\n",
       "      <td id=\"T_0b63a_row6_col6\" class=\"data row6 col6\" >1.000000</td>\n",
       "      <td id=\"T_0b63a_row6_col7\" class=\"data row6 col7\" >1.000000</td>\n",
       "    </tr>\n",
       "    <tr>\n",
       "      <th id=\"T_0b63a_level0_row7\" class=\"row_heading level0 row7\" >fraud</th>\n",
       "      <td id=\"T_0b63a_row7_col0\" class=\"data row7 col0\" >1000000.000000</td>\n",
       "      <td id=\"T_0b63a_row7_col1\" class=\"data row7 col1\" >0.087403</td>\n",
       "      <td id=\"T_0b63a_row7_col2\" class=\"data row7 col2\" >0.282425</td>\n",
       "      <td id=\"T_0b63a_row7_col3\" class=\"data row7 col3\" >0.000000</td>\n",
       "      <td id=\"T_0b63a_row7_col4\" class=\"data row7 col4\" >0.000000</td>\n",
       "      <td id=\"T_0b63a_row7_col5\" class=\"data row7 col5\" >0.000000</td>\n",
       "      <td id=\"T_0b63a_row7_col6\" class=\"data row7 col6\" >0.000000</td>\n",
       "      <td id=\"T_0b63a_row7_col7\" class=\"data row7 col7\" >1.000000</td>\n",
       "    </tr>\n",
       "  </tbody>\n",
       "</table>\n"
      ],
      "text/plain": [
       "<pandas.io.formats.style.Styler at 0x1a58d48b610>"
      ]
     },
     "execution_count": 9,
     "metadata": {},
     "output_type": "execute_result"
    }
   ],
   "source": [
    "data.describe().T.style.set_properties(**{'background-color': 'black', 'color': 'lawngreen', 'border-color': 'Black'}) #describi"
   ]
  },
  {
   "cell_type": "code",
   "execution_count": 10,
   "id": "01dce44a",
   "metadata": {},
   "outputs": [
    {
     "name": "stdout",
     "output_type": "stream",
     "text": [
      "Fraud data are : \n",
      "        distance_from_home  distance_from_last_transaction  \\\n",
      "13                2.131956                       56.372401   \n",
      "24                3.803057                       67.241081   \n",
      "29               15.694986                      175.989182   \n",
      "35               26.711462                        1.552008   \n",
      "36               10.664474                        1.565769   \n",
      "...                    ...                             ...   \n",
      "999908           45.296658                        0.882736   \n",
      "999916          167.139756                        0.282253   \n",
      "999919          124.640118                        0.004416   \n",
      "999939           51.412900                        3.429330   \n",
      "999949           15.724799                        1.875906   \n",
      "\n",
      "        ratio_to_median_purchase_price  repeat_retailer  used_chip  \\\n",
      "13                            6.358667              1.0        0.0   \n",
      "24                            1.872950              1.0        0.0   \n",
      "29                            0.855623              1.0        0.0   \n",
      "35                            4.603601              1.0        1.0   \n",
      "36                            4.886521              1.0        0.0   \n",
      "...                                ...              ...        ...   \n",
      "999908                        8.856861              1.0        0.0   \n",
      "999916                        0.308468              1.0        0.0   \n",
      "999919                        0.434885              1.0        0.0   \n",
      "999939                       29.914254              1.0        0.0   \n",
      "999949                       11.009366              1.0        1.0   \n",
      "\n",
      "        used_pin_number  online_order  fraud  \n",
      "13                  0.0           1.0    1.0  \n",
      "24                  0.0           1.0    1.0  \n",
      "29                  0.0           1.0    1.0  \n",
      "35                  0.0           1.0    1.0  \n",
      "36                  0.0           1.0    1.0  \n",
      "...                 ...           ...    ...  \n",
      "999908              0.0           1.0    1.0  \n",
      "999916              0.0           1.0    1.0  \n",
      "999919              0.0           1.0    1.0  \n",
      "999939              0.0           1.0    1.0  \n",
      "999949              0.0           1.0    1.0  \n",
      "\n",
      "[87403 rows x 8 columns]\n",
      "............................................................................................................................................................................................................................\n",
      "Not fraud data are: \n",
      "        distance_from_home  distance_from_last_transaction  \\\n",
      "0                57.877857                        0.311140   \n",
      "1                10.829943                        0.175592   \n",
      "2                 5.091079                        0.805153   \n",
      "3                 2.247564                        5.600044   \n",
      "4                44.190936                        0.566486   \n",
      "...                    ...                             ...   \n",
      "999995            2.207101                        0.112651   \n",
      "999996           19.872726                        2.683904   \n",
      "999997            2.914857                        1.472687   \n",
      "999998            4.258729                        0.242023   \n",
      "999999           58.108125                        0.318110   \n",
      "\n",
      "        ratio_to_median_purchase_price  repeat_retailer  used_chip  \\\n",
      "0                             1.945940              1.0        1.0   \n",
      "1                             1.294219              1.0        0.0   \n",
      "2                             0.427715              1.0        0.0   \n",
      "3                             0.362663              1.0        1.0   \n",
      "4                             2.222767              1.0        1.0   \n",
      "...                                ...              ...        ...   \n",
      "999995                        1.626798              1.0        1.0   \n",
      "999996                        2.778303              1.0        1.0   \n",
      "999997                        0.218075              1.0        1.0   \n",
      "999998                        0.475822              1.0        0.0   \n",
      "999999                        0.386920              1.0        1.0   \n",
      "\n",
      "        used_pin_number  online_order  fraud  \n",
      "0                   0.0           0.0    0.0  \n",
      "1                   0.0           0.0    0.0  \n",
      "2                   0.0           1.0    0.0  \n",
      "3                   0.0           1.0    0.0  \n",
      "4                   0.0           1.0    0.0  \n",
      "...                 ...           ...    ...  \n",
      "999995              0.0           0.0    0.0  \n",
      "999996              0.0           0.0    0.0  \n",
      "999997              0.0           1.0    0.0  \n",
      "999998              0.0           1.0    0.0  \n",
      "999999              0.0           1.0    0.0  \n",
      "\n",
      "[912597 rows x 8 columns]\n"
     ]
    }
   ],
   "source": [
    "fraud = data[data['fraud'].isin([1])]     #Getting all one's togther\n",
    "not_fraud = data[data['fraud'].isin([0])]    #Getting all zero's togther\n",
    "print('Fraud data are : ')\n",
    "print(fraud)\n",
    "print('............................................................................................................................................................................................................................')\n",
    "print('Not fraud data are: ')\n",
    "print(not_fraud)"
   ]
  },
  {
   "cell_type": "code",
   "execution_count": 11,
   "id": "7a23eae6",
   "metadata": {},
   "outputs": [
    {
     "name": "stdout",
     "output_type": "stream",
     "text": [
      "No. of frauds is :  87403\n",
      "No. of no frauds is :   912597\n"
     ]
    }
   ],
   "source": [
    "Yes_fraud = data[data['fraud'].isin([1])]   \n",
    "No_fraud = data[data['fraud'].isin([0])]\n",
    "t = len(Yes_fraud)\n",
    "print('No. of frauds is : ' ,t)\n",
    "f =len(No_fraud)\n",
    "print('No. of no frauds is :  ',f )"
   ]
  },
  {
   "cell_type": "markdown",
   "id": "c33fab38",
   "metadata": {},
   "source": [
    "# Cleaning Data"
   ]
  },
  {
   "cell_type": "code",
   "execution_count": 12,
   "id": "1a8451a2",
   "metadata": {},
   "outputs": [
    {
     "data": {
      "text/plain": [
       "distance_from_home                0\n",
       "distance_from_last_transaction    0\n",
       "ratio_to_median_purchase_price    0\n",
       "repeat_retailer                   0\n",
       "used_chip                         0\n",
       "used_pin_number                   0\n",
       "online_order                      0\n",
       "fraud                             0\n",
       "dtype: int64"
      ]
     },
     "execution_count": 12,
     "metadata": {},
     "output_type": "execute_result"
    }
   ],
   "source": [
    "\n",
    "data.isnull().sum().head(10) #checking that no nulls"
   ]
  },
  {
   "cell_type": "code",
   "execution_count": 13,
   "id": "c9a4b1f0",
   "metadata": {},
   "outputs": [
    {
     "name": "stdout",
     "output_type": "stream",
     "text": [
      "Number of duplicated rows is:   0\n"
     ]
    }
   ],
   "source": [
    "d_rows =   data[data.duplicated()]\n",
    "print(\"Number of duplicated rows is:  \",d_rows.shape[0]) # check that no duplicates"
   ]
  },
  {
   "cell_type": "markdown",
   "id": "427fab6b",
   "metadata": {},
   "source": [
    "# Scaling data"
   ]
  },
  {
   "cell_type": "code",
   "execution_count": 14,
   "id": "22469c38",
   "metadata": {},
   "outputs": [],
   "source": [
    "x = data.iloc[     :       ,          : -1]  # features\n",
    "y = data.iloc[     :       ,            -1]  #target\n",
    "scaler = StandardScaler()\n",
    "X = scaler.fit_transform(x)"
   ]
  },
  {
   "cell_type": "code",
   "execution_count": 15,
   "id": "241008ca",
   "metadata": {},
   "outputs": [
    {
     "data": {
      "text/plain": [
       "array([ 0.47788202, -0.18284892,  0.04349141,  0.36658372,  1.36157608,\n",
       "       -0.33445812, -1.36442519])"
      ]
     },
     "execution_count": 15,
     "metadata": {},
     "output_type": "execute_result"
    }
   ],
   "source": [
    "X[0]"
   ]
  },
  {
   "cell_type": "markdown",
   "id": "b0574745",
   "metadata": {},
   "source": [
    "# Splitting data"
   ]
  },
  {
   "cell_type": "code",
   "execution_count": 16,
   "id": "4962f96a",
   "metadata": {},
   "outputs": [
    {
     "name": "stdout",
     "output_type": "stream",
     "text": [
      "Index(['distance_from_home', 'distance_from_last_transaction',\n",
      "       'ratio_to_median_purchase_price', 'repeat_retailer', 'used_chip',\n",
      "       'used_pin_number', 'online_order', 'fraud'],\n",
      "      dtype='object')\n"
     ]
    }
   ],
   "source": [
    "print(data.columns)"
   ]
  },
  {
   "cell_type": "code",
   "execution_count": 17,
   "id": "072c76b8",
   "metadata": {},
   "outputs": [
    {
     "data": {
      "text/html": [
       "<style type=\"text/css\">\n",
       "#T_c09fe_row0_col0, #T_c09fe_row0_col1, #T_c09fe_row0_col2, #T_c09fe_row0_col3, #T_c09fe_row0_col4, #T_c09fe_row0_col5, #T_c09fe_row0_col6, #T_c09fe_row1_col0, #T_c09fe_row1_col1, #T_c09fe_row1_col2, #T_c09fe_row1_col3, #T_c09fe_row1_col4, #T_c09fe_row1_col5, #T_c09fe_row1_col6, #T_c09fe_row2_col0, #T_c09fe_row2_col1, #T_c09fe_row2_col2, #T_c09fe_row2_col3, #T_c09fe_row2_col4, #T_c09fe_row2_col5, #T_c09fe_row2_col6, #T_c09fe_row3_col0, #T_c09fe_row3_col1, #T_c09fe_row3_col2, #T_c09fe_row3_col3, #T_c09fe_row3_col4, #T_c09fe_row3_col5, #T_c09fe_row3_col6, #T_c09fe_row4_col0, #T_c09fe_row4_col1, #T_c09fe_row4_col2, #T_c09fe_row4_col3, #T_c09fe_row4_col4, #T_c09fe_row4_col5, #T_c09fe_row4_col6 {\n",
       "  background-color: black;\n",
       "  color: lawngreen;\n",
       "  border-color: Black;\n",
       "}\n",
       "</style>\n",
       "<table id=\"T_c09fe\">\n",
       "  <thead>\n",
       "    <tr>\n",
       "      <th class=\"blank level0\" >&nbsp;</th>\n",
       "      <th id=\"T_c09fe_level0_col0\" class=\"col_heading level0 col0\" >distance_from_home</th>\n",
       "      <th id=\"T_c09fe_level0_col1\" class=\"col_heading level0 col1\" >distance_from_last_transaction</th>\n",
       "      <th id=\"T_c09fe_level0_col2\" class=\"col_heading level0 col2\" >ratio_to_median_purchase_price</th>\n",
       "      <th id=\"T_c09fe_level0_col3\" class=\"col_heading level0 col3\" >repeat_retailer</th>\n",
       "      <th id=\"T_c09fe_level0_col4\" class=\"col_heading level0 col4\" >used_chip</th>\n",
       "      <th id=\"T_c09fe_level0_col5\" class=\"col_heading level0 col5\" >used_pin_number</th>\n",
       "      <th id=\"T_c09fe_level0_col6\" class=\"col_heading level0 col6\" >online_order</th>\n",
       "    </tr>\n",
       "  </thead>\n",
       "  <tbody>\n",
       "    <tr>\n",
       "      <th id=\"T_c09fe_level0_row0\" class=\"row_heading level0 row0\" >0</th>\n",
       "      <td id=\"T_c09fe_row0_col0\" class=\"data row0 col0\" >57.877857</td>\n",
       "      <td id=\"T_c09fe_row0_col1\" class=\"data row0 col1\" >0.311140</td>\n",
       "      <td id=\"T_c09fe_row0_col2\" class=\"data row0 col2\" >1.945940</td>\n",
       "      <td id=\"T_c09fe_row0_col3\" class=\"data row0 col3\" >1.000000</td>\n",
       "      <td id=\"T_c09fe_row0_col4\" class=\"data row0 col4\" >1.000000</td>\n",
       "      <td id=\"T_c09fe_row0_col5\" class=\"data row0 col5\" >0.000000</td>\n",
       "      <td id=\"T_c09fe_row0_col6\" class=\"data row0 col6\" >0.000000</td>\n",
       "    </tr>\n",
       "    <tr>\n",
       "      <th id=\"T_c09fe_level0_row1\" class=\"row_heading level0 row1\" >1</th>\n",
       "      <td id=\"T_c09fe_row1_col0\" class=\"data row1 col0\" >10.829943</td>\n",
       "      <td id=\"T_c09fe_row1_col1\" class=\"data row1 col1\" >0.175592</td>\n",
       "      <td id=\"T_c09fe_row1_col2\" class=\"data row1 col2\" >1.294219</td>\n",
       "      <td id=\"T_c09fe_row1_col3\" class=\"data row1 col3\" >1.000000</td>\n",
       "      <td id=\"T_c09fe_row1_col4\" class=\"data row1 col4\" >0.000000</td>\n",
       "      <td id=\"T_c09fe_row1_col5\" class=\"data row1 col5\" >0.000000</td>\n",
       "      <td id=\"T_c09fe_row1_col6\" class=\"data row1 col6\" >0.000000</td>\n",
       "    </tr>\n",
       "    <tr>\n",
       "      <th id=\"T_c09fe_level0_row2\" class=\"row_heading level0 row2\" >2</th>\n",
       "      <td id=\"T_c09fe_row2_col0\" class=\"data row2 col0\" >5.091079</td>\n",
       "      <td id=\"T_c09fe_row2_col1\" class=\"data row2 col1\" >0.805153</td>\n",
       "      <td id=\"T_c09fe_row2_col2\" class=\"data row2 col2\" >0.427715</td>\n",
       "      <td id=\"T_c09fe_row2_col3\" class=\"data row2 col3\" >1.000000</td>\n",
       "      <td id=\"T_c09fe_row2_col4\" class=\"data row2 col4\" >0.000000</td>\n",
       "      <td id=\"T_c09fe_row2_col5\" class=\"data row2 col5\" >0.000000</td>\n",
       "      <td id=\"T_c09fe_row2_col6\" class=\"data row2 col6\" >1.000000</td>\n",
       "    </tr>\n",
       "    <tr>\n",
       "      <th id=\"T_c09fe_level0_row3\" class=\"row_heading level0 row3\" >3</th>\n",
       "      <td id=\"T_c09fe_row3_col0\" class=\"data row3 col0\" >2.247564</td>\n",
       "      <td id=\"T_c09fe_row3_col1\" class=\"data row3 col1\" >5.600044</td>\n",
       "      <td id=\"T_c09fe_row3_col2\" class=\"data row3 col2\" >0.362663</td>\n",
       "      <td id=\"T_c09fe_row3_col3\" class=\"data row3 col3\" >1.000000</td>\n",
       "      <td id=\"T_c09fe_row3_col4\" class=\"data row3 col4\" >1.000000</td>\n",
       "      <td id=\"T_c09fe_row3_col5\" class=\"data row3 col5\" >0.000000</td>\n",
       "      <td id=\"T_c09fe_row3_col6\" class=\"data row3 col6\" >1.000000</td>\n",
       "    </tr>\n",
       "    <tr>\n",
       "      <th id=\"T_c09fe_level0_row4\" class=\"row_heading level0 row4\" >4</th>\n",
       "      <td id=\"T_c09fe_row4_col0\" class=\"data row4 col0\" >44.190936</td>\n",
       "      <td id=\"T_c09fe_row4_col1\" class=\"data row4 col1\" >0.566486</td>\n",
       "      <td id=\"T_c09fe_row4_col2\" class=\"data row4 col2\" >2.222767</td>\n",
       "      <td id=\"T_c09fe_row4_col3\" class=\"data row4 col3\" >1.000000</td>\n",
       "      <td id=\"T_c09fe_row4_col4\" class=\"data row4 col4\" >1.000000</td>\n",
       "      <td id=\"T_c09fe_row4_col5\" class=\"data row4 col5\" >0.000000</td>\n",
       "      <td id=\"T_c09fe_row4_col6\" class=\"data row4 col6\" >1.000000</td>\n",
       "    </tr>\n",
       "  </tbody>\n",
       "</table>\n"
      ],
      "text/plain": [
       "<pandas.io.formats.style.Styler at 0x1a58ed3f5e0>"
      ]
     },
     "execution_count": 17,
     "metadata": {},
     "output_type": "execute_result"
    }
   ],
   "source": [
    "x.head().style.set_properties(**{'background-color': 'black', 'color': 'lawngreen', 'border-color': 'Black'})"
   ]
  },
  {
   "cell_type": "code",
   "execution_count": 18,
   "id": "0e5d8ede",
   "metadata": {},
   "outputs": [
    {
     "data": {
      "text/plain": [
       "0    0.0\n",
       "1    0.0\n",
       "2    0.0\n",
       "3    0.0\n",
       "4    0.0\n",
       "Name: fraud, dtype: float64"
      ]
     },
     "execution_count": 18,
     "metadata": {},
     "output_type": "execute_result"
    }
   ],
   "source": [
    "y.head()"
   ]
  },
  {
   "cell_type": "code",
   "execution_count": 19,
   "id": "385c746b",
   "metadata": {},
   "outputs": [],
   "source": [
    "X_train, X_test, y_train, y_test = train_test_split(X, y, test_size = 0.25, random_state = 1000,shuffle = True ) "
   ]
  },
  {
   "cell_type": "code",
   "execution_count": 20,
   "id": "1c6f3f7b",
   "metadata": {},
   "outputs": [
    {
     "data": {
      "text/plain": [
       "array([[-0.37371294, -0.17602402,  0.1131036 , ..., -0.73444298,\n",
       "        -0.33445812, -1.36442519],\n",
       "       [-0.32698999, -0.1943799 ,  1.49059015, ..., -0.73444298,\n",
       "        -0.33445812,  0.73290937],\n",
       "       [-0.39464053, -0.18873961, -0.61800612, ..., -0.73444298,\n",
       "         2.98991094,  0.73290937],\n",
       "       ...,\n",
       "       [-0.23803865, -0.19363967,  0.541756  , ...,  1.36157608,\n",
       "        -0.33445812,  0.73290937],\n",
       "       [-0.02412254, -0.18737844, -0.41134796, ..., -0.73444298,\n",
       "        -0.33445812,  0.73290937],\n",
       "       [ 0.74918421, -0.09875855,  0.16277418, ...,  1.36157608,\n",
       "        -0.33445812,  0.73290937]])"
      ]
     },
     "execution_count": 20,
     "metadata": {},
     "output_type": "execute_result"
    }
   ],
   "source": [
    "\n",
    "X_train"
   ]
  },
  {
   "cell_type": "code",
   "execution_count": 21,
   "id": "d72494ab",
   "metadata": {},
   "outputs": [
    {
     "data": {
      "text/plain": [
       "802835    0.0\n",
       "389960    1.0\n",
       "819086    0.0\n",
       "775244    0.0\n",
       "688284    0.0\n",
       "         ... \n",
       "376059    0.0\n",
       "134848    1.0\n",
       "71751     0.0\n",
       "856663    0.0\n",
       "107955    0.0\n",
       "Name: fraud, Length: 750000, dtype: float64"
      ]
     },
     "execution_count": 21,
     "metadata": {},
     "output_type": "execute_result"
    }
   ],
   "source": [
    " y_train"
   ]
  },
  {
   "cell_type": "code",
   "execution_count": 22,
   "id": "4bb5d0e1",
   "metadata": {},
   "outputs": [
    {
     "name": "stdout",
     "output_type": "stream",
     "text": [
      "X_train is :  (750000, 7)\n",
      "X_test is :  (250000, 7)\n",
      "Y_train is :  (750000,)\n",
      "Y_test is :  (250000,)\n"
     ]
    }
   ],
   "source": [
    "print('X_train is : ',X_train.shape)\n",
    "print('X_test is : ',X_test.shape)\n",
    "print('Y_train is : ',y_train.shape)\n",
    "print('Y_test is : ',y_test.shape)\n"
   ]
  },
  {
   "cell_type": "markdown",
   "id": "8f87c67f",
   "metadata": {},
   "source": [
    "# Data Analytics and Graphs"
   ]
  },
  {
   "cell_type": "code",
   "execution_count": 23,
   "id": "ba394340",
   "metadata": {},
   "outputs": [
    {
     "data": {
      "text/plain": [
       "0.0    912597\n",
       "1.0     87403\n",
       "Name: fraud, dtype: int64"
      ]
     },
     "execution_count": 23,
     "metadata": {},
     "output_type": "execute_result"
    }
   ],
   "source": [
    "Fraud_Data = data[\"fraud\"].value_counts()\n",
    "Fraud_Data"
   ]
  },
  {
   "cell_type": "markdown",
   "id": "358c8ca1",
   "metadata": {},
   "source": [
    "# Bar Plot"
   ]
  },
  {
   "cell_type": "code",
   "execution_count": 24,
   "id": "2814732d",
   "metadata": {},
   "outputs": [
    {
     "data": {
      "text/plain": [
       "0.0    912597\n",
       "1.0     87403\n",
       "Name: fraud, dtype: int64"
      ]
     },
     "execution_count": 24,
     "metadata": {},
     "output_type": "execute_result"
    },
    {
     "data": {
      "image/png": "[encoded data removed]",
      "text/plain": [
       "<Figure size 640x480 with 1 Axes>"
      ]
     },
     "metadata": {},
     "output_type": "display_data"
    }
   ],
   "source": [
    "plt.plot(figure = (25,25))\n",
    "plt.title('Fraud vs Not_Fraud')\n",
    "graph = sns.countplot(x = data[\"fraud\"], palette = 'magma')\n",
    "data.fraud.astype('category').value_counts()"
   ]
  },
  {
   "cell_type": "code",
   "execution_count": 25,
   "id": "39129661",
   "metadata": {},
   "outputs": [
    {
     "data": {
      "text/plain": [
       "1.0    881536\n",
       "0.0    118464\n",
       "Name: repeat_retailer, dtype: int64"
      ]
     },
     "execution_count": 25,
     "metadata": {},
     "output_type": "execute_result"
    }
   ],
   "source": [
    "R_Data = data[\"repeat_retailer\"].value_counts()\n",
    "R_Data"
   ]
  },
  {
   "cell_type": "code",
   "execution_count": 26,
   "id": "064ff563",
   "metadata": {},
   "outputs": [
    {
     "data": {
      "text/plain": [
       "0.0    649601\n",
       "1.0    350399\n",
       "Name: used_chip, dtype: int64"
      ]
     },
     "execution_count": 26,
     "metadata": {},
     "output_type": "execute_result"
    }
   ],
   "source": [
    "C_Data = data[\"used_chip\"].value_counts()\n",
    "C_Data"
   ]
  },
  {
   "cell_type": "code",
   "execution_count": 27,
   "id": "e0b43c1c",
   "metadata": {},
   "outputs": [
    {
     "data": {
      "text/plain": [
       "0.0    899392\n",
       "1.0    100608\n",
       "Name: used_pin_number, dtype: int64"
      ]
     },
     "execution_count": 27,
     "metadata": {},
     "output_type": "execute_result"
    }
   ],
   "source": [
    "P_Data = data[\"used_pin_number\"].value_counts()\n",
    "P_Data"
   ]
  },
  {
   "cell_type": "code",
   "execution_count": 28,
   "id": "3f537745",
   "metadata": {},
   "outputs": [
    {
     "data": {
      "text/plain": [
       "1.0    650552\n",
       "0.0    349448\n",
       "Name: online_order, dtype: int64"
      ]
     },
     "execution_count": 28,
     "metadata": {},
     "output_type": "execute_result"
    }
   ],
   "source": [
    "O_Data = data[\"online_order\"].value_counts()\n",
    "O_Data"
   ]
  },
  {
   "cell_type": "code",
   "execution_count": 29,
   "id": "f751ae1b",
   "metadata": {},
   "outputs": [
    {
     "data": {
      "text/plain": [
       "<Axes: xlabel='online_order', ylabel='count'>"
      ]
     },
     "execution_count": 29,
     "metadata": {},
     "output_type": "execute_result"
    },
    {
     "data": {
      "image/png": "[encoded data removed]",
      "text/plain": [
       "<Figure size 2000x2000 with 4 Axes>"
      ]
     },
     "metadata": {},
     "output_type": "display_data"
    }
   ],
   "source": [
    "plt.figure(figsize = (20,20))\n",
    "plt.subplot(2,2,1)\n",
    "sns.countplot(x = \"repeat_retailer\", palette = \"Set2\", data = data)\n",
    "\n",
    "plt.subplot(2,2,2)\n",
    "sns.countplot(x = \"used_chip\", palette = \"Set2\", data = data)\n",
    "\n",
    "plt.subplot(2,2,3)\n",
    "sns.countplot(x = \"used_pin_number\", palette = \"Set2\", data = data)\n",
    "\n",
    "plt.subplot(2,2,4)\n",
    "sns.countplot(x = \"online_order\", palette = \"Set2\", data  = data)"
   ]
  },
  {
   "cell_type": "markdown",
   "id": "5e6e1423",
   "metadata": {},
   "source": [
    "# Pie Plot"
   ]
  },
  {
   "cell_type": "code",
   "execution_count": 30,
   "id": "2750cf13",
   "metadata": {},
   "outputs": [
    {
     "data": {
      "text/plain": [
       "0.0    912597\n",
       "1.0     87403\n",
       "Name: fraud, dtype: int64"
      ]
     },
     "execution_count": 30,
     "metadata": {},
     "output_type": "execute_result"
    }
   ],
   "source": [
    "Data_Fraud = data[\"fraud\"].value_counts()\n",
    "\n",
    "Data_Fraud\n"
   ]
  },
  {
   "cell_type": "code",
   "execution_count": 36,
   "id": "f24630d7",
   "metadata": {},
   "outputs": [
    {
     "data": {
      "application/vnd.plotly.v1+json": {
       "config": {
        "plotlyServerURL": "https://plot.ly"
       },
       "data": [
        {
         "labels": [
          "Not Fraud",
          "Fraud"
         ],
         "type": "pie",
         "values": [
          912597,
          87403
         ]
        }
       ],
       "layout": {
        "template": {
         "data": {
          "bar": [
           {
            "error_x": {
             "color": "#2a3f5f"
            },
            "error_y": {
             "color": "#2a3f5f"
            },
            "marker": {
             "line": {
              "color": "#E5ECF6",
              "width": 0.5
             },
             "pattern": {
              "fillmode": "overlay",
              "size": 10,
              "solidity": 0.2
             }
            },
            "type": "bar"
           }
          ],
          "barpolar": [
           {
            "marker": {
             "line": {
              "color": "#E5ECF6",
              "width": 0.5
             },
             "pattern": {
              "fillmode": "overlay",
              "size": 10,
              "solidity": 0.2
             }
            },
            "type": "barpolar"
           }
          ],
          "carpet": [
           {
            "aaxis": {
             "endlinecolor": "#2a3f5f",
             "gridcolor": "white",
             "linecolor": "white",
             "minorgridcolor": "white",
             "startlinecolor": "#2a3f5f"
            },
            "baxis": {
             "endlinecolor": "#2a3f5f",
             "gridcolor": "white",
             "linecolor": "white",
             "minorgridcolor": "white",
             "startlinecolor": "#2a3f5f"
            },
            "type": "carpet"
           }
          ],
          "choropleth": [
           {
            "colorbar": {
             "outlinewidth": 0,
             "ticks": ""
            },
            "type": "choropleth"
           }
          ],
          "contour": [
           {
            "colorbar": {
             "outlinewidth": 0,
             "ticks": ""
            },
            "colorscale": [
             [
              0,
              "#0d0887"
             ],
             [
              0.1111111111111111,
              "#46039f"
             ],
             [
              0.2222222222222222,
              "#7201a8"
             ],
             [
              0.3333333333333333,
              "#9c179e"
             ],
             [
              0.4444444444444444,
              "#bd3786"
             ],
             [
              0.5555555555555556,
              "#d8576b"
             ],
             [
              0.6666666666666666,
              "#ed7953"
             ],
             [
              0.7777777777777778,
              "#fb9f3a"
             ],
             [
              0.8888888888888888,
              "#fdca26"
             ],
             [
              1,
              "#f0f921"
             ]
            ],
            "type": "contour"
           }
          ],
          "contourcarpet": [
           {
            "colorbar": {
             "outlinewidth": 0,
             "ticks": ""
            },
            "type": "contourcarpet"
           }
          ],
          "heatmap": [
           {
            "colorbar": {
             "outlinewidth": 0,
             "ticks": ""
            },
            "colorscale": [
             [
              0,
              "#0d0887"
             ],
             [
              0.1111111111111111,
              "#46039f"
             ],
             [
              0.2222222222222222,
              "#7201a8"
             ],
             [
              0.3333333333333333,
              "#9c179e"
             ],
             [
              0.4444444444444444,
              "#bd3786"
             ],
             [
              0.5555555555555556,
              "#d8576b"
             ],
             [
              0.6666666666666666,
              "#ed7953"
             ],
             [
              0.7777777777777778,
              "#fb9f3a"
             ],
             [
              0.8888888888888888,
              "#fdca26"
             ],
             [
              1,
              "#f0f921"
             ]
            ],
            "type": "heatmap"
           }
          ],
          "heatmapgl": [
           {
            "colorbar": {
             "outlinewidth": 0,
             "ticks": ""
            },
            "colorscale": [
             [
              0,
              "#0d0887"
             ],
             [
              0.1111111111111111,
              "#46039f"
             ],
             [
              0.2222222222222222,
              "#7201a8"
             ],
             [
              0.3333333333333333,
              "#9c179e"
             ],
             [
              0.4444444444444444,
              "#bd3786"
             ],
             [
              0.5555555555555556,
              "#d8576b"
             ],
             [
              0.6666666666666666,
              "#ed7953"
             ],
             [
              0.7777777777777778,
              "#fb9f3a"
             ],
             [
              0.8888888888888888,
              "#fdca26"
             ],
             [
              1,
              "#f0f921"
             ]
            ],
            "type": "heatmapgl"
           }
          ],
          "histogram": [
           {
            "marker": {
             "pattern": {
              "fillmode": "overlay",
              "size": 10,
              "solidity": 0.2
             }
            },
            "type": "histogram"
           }
          ],
          "histogram2d": [
           {
            "colorbar": {
             "outlinewidth": 0,
             "ticks": ""
            },
            "colorscale": [
             [
              0,
              "#0d0887"
             ],
             [
              0.1111111111111111,
              "#46039f"
             ],
             [
              0.2222222222222222,
              "#7201a8"
             ],
             [
              0.3333333333333333,
              "#9c179e"
             ],
             [
              0.4444444444444444,
              "#bd3786"
             ],
             [
              0.5555555555555556,
              "#d8576b"
             ],
             [
              0.6666666666666666,
              "#ed7953"
             ],
             [
              0.7777777777777778,
              "#fb9f3a"
             ],
             [
              0.8888888888888888,
              "#fdca26"
             ],
             [
              1,
              "#f0f921"
             ]
            ],
            "type": "histogram2d"
           }
          ],
          "histogram2dcontour": [
           {
            "colorbar": {
             "outlinewidth": 0,
             "ticks": ""
            },
            "colorscale": [
             [
              0,
              "#0d0887"
             ],
             [
              0.1111111111111111,
              "#46039f"
             ],
             [
              0.2222222222222222,
              "#7201a8"
             ],
             [
              0.3333333333333333,
              "#9c179e"
             ],
             [
              0.4444444444444444,
              "#bd3786"
             ],
             [
              0.5555555555555556,
              "#d8576b"
             ],
             [
              0.6666666666666666,
              "#ed7953"
             ],
             [
              0.7777777777777778,
              "#fb9f3a"
             ],
             [
              0.8888888888888888,
              "#fdca26"
             ],
             [
              1,
              "#f0f921"
             ]
            ],
            "type": "histogram2dcontour"
           }
          ],
          "mesh3d": [
           {
            "colorbar": {
             "outlinewidth": 0,
             "ticks": ""
            },
            "type": "mesh3d"
           }
          ],
          "parcoords": [
           {
            "line": {
             "colorbar": {
              "outlinewidth": 0,
              "ticks": ""
             }
            },
            "type": "parcoords"
           }
          ],
          "pie": [
           {
            "automargin": true,
            "type": "pie"
           }
          ],
          "scatter": [
           {
            "fillpattern": {
             "fillmode": "overlay",
             "size": 10,
             "solidity": 0.2
            },
            "type": "scatter"
           }
          ],
          "scatter3d": [
           {
            "line": {
             "colorbar": {
              "outlinewidth": 0,
              "ticks": ""
             }
            },
            "marker": {
             "colorbar": {
              "outlinewidth": 0,
              "ticks": ""
             }
            },
            "type": "scatter3d"
           }
          ],
          "scattercarpet": [
           {
            "marker": {
             "colorbar": {
              "outlinewidth": 0,
              "ticks": ""
             }
            },
            "type": "scattercarpet"
           }
          ],
          "scattergeo": [
           {
            "marker": {
             "colorbar": {
              "outlinewidth": 0,
              "ticks": ""
             }
            },
            "type": "scattergeo"
           }
          ],
          "scattergl": [
           {
            "marker": {
             "colorbar": {
              "outlinewidth": 0,
              "ticks": ""
             }
            },
            "type": "scattergl"
           }
          ],
          "scattermapbox": [
           {
            "marker": {
             "colorbar": {
              "outlinewidth": 0,
              "ticks": ""
             }
            },
            "type": "scattermapbox"
           }
          ],
          "scatterpolar": [
           {
            "marker": {
             "colorbar": {
              "outlinewidth": 0,
              "ticks": ""
             }
            },
            "type": "scatterpolar"
           }
          ],
          "scatterpolargl": [
           {
            "marker": {
             "colorbar": {
              "outlinewidth": 0,
              "ticks": ""
             }
            },
            "type": "scatterpolargl"
           }
          ],
          "scatterternary": [
           {
            "marker": {
             "colorbar": {
              "outlinewidth": 0,
              "ticks": ""
             }
            },
            "type": "scatterternary"
           }
          ],
          "surface": [
           {
            "colorbar": {
             "outlinewidth": 0,
             "ticks": ""
            },
            "colorscale": [
             [
              0,
              "#0d0887"
             ],
             [
              0.1111111111111111,
              "#46039f"
             ],
             [
              0.2222222222222222,
              "#7201a8"
             ],
             [
              0.3333333333333333,
              "#9c179e"
             ],
             [
              0.4444444444444444,
              "#bd3786"
             ],
             [
              0.5555555555555556,
              "#d8576b"
             ],
             [
              0.6666666666666666,
              "#ed7953"
             ],
             [
              0.7777777777777778,
              "#fb9f3a"
             ],
             [
              0.8888888888888888,
              "#fdca26"
             ],
             [
              1,
              "#f0f921"
             ]
            ],
            "type": "surface"
           }
          ],
          "table": [
           {
            "cells": {
             "fill": {
              "color": "#EBF0F8"
             },
             "line": {
              "color": "white"
             }
            },
            "header": {
             "fill": {
              "color": "#C8D4E3"
             },
             "line": {
              "color": "white"
             }
            },
            "type": "table"
           }
          ]
         },
         "layout": {
          "annotationdefaults": {
           "arrowcolor": "#2a3f5f",
           "arrowhead": 0,
           "arrowwidth": 1
          },
          "autotypenumbers": "strict",
          "coloraxis": {
           "colorbar": {
            "outlinewidth": 0,
            "ticks": ""
           }
          },
          "colorscale": {
           "diverging": [
            [
             0,
             "#8e0152"
            ],
            [
             0.1,
             "#c51b7d"
            ],
            [
             0.2,
             "#de77ae"
            ],
            [
             0.3,
             "#f1b6da"
            ],
            [
             0.4,
             "#fde0ef"
            ],
            [
             0.5,
             "#f7f7f7"
            ],
            [
             0.6,
             "#e6f5d0"
            ],
            [
             0.7,
             "#b8e186"
            ],
            [
             0.8,
             "#7fbc41"
            ],
            [
             0.9,
             "#4d9221"
            ],
            [
             1,
             "#276419"
            ]
           ],
           "sequential": [
            [
             0,
             "#0d0887"
            ],
            [
             0.1111111111111111,
             "#46039f"
            ],
            [
             0.2222222222222222,
             "#7201a8"
            ],
            [
             0.3333333333333333,
             "#9c179e"
            ],
            [
             0.4444444444444444,
             "#bd3786"
            ],
            [
             0.5555555555555556,
             "#d8576b"
            ],
            [
             0.6666666666666666,
             "#ed7953"
            ],
            [
             0.7777777777777778,
             "#fb9f3a"
            ],
            [
             0.8888888888888888,
             "#fdca26"
            ],
            [
             1,
             "#f0f921"
            ]
           ],
           "sequentialminus": [
            [
             0,
             "#0d0887"
            ],
            [
             0.1111111111111111,
             "#46039f"
            ],
            [
             0.2222222222222222,
             "#7201a8"
            ],
            [
             0.3333333333333333,
             "#9c179e"
            ],
            [
             0.4444444444444444,
             "#bd3786"
            ],
            [
             0.5555555555555556,
             "#d8576b"
            ],
            [
             0.6666666666666666,
             "#ed7953"
            ],
            [
             0.7777777777777778,
             "#fb9f3a"
            ],
            [
             0.8888888888888888,
             "#fdca26"
            ],
            [
             1,
             "#f0f921"
            ]
           ]
          },
          "colorway": [
           "#636efa",
           "#EF553B",
           "#00cc96",
           "#ab63fa",
           "#FFA15A",
           "#19d3f3",
           "#FF6692",
           "#B6E880",
           "#FF97FF",
           "#FECB52"
          ],
          "font": {
           "color": "#2a3f5f"
          },
          "geo": {
           "bgcolor": "white",
           "lakecolor": "white",
           "landcolor": "#E5ECF6",
           "showlakes": true,
           "showland": true,
           "subunitcolor": "white"
          },
          "hoverlabel": {
           "align": "left"
          },
          "hovermode": "closest",
          "mapbox": {
           "style": "light"
          },
          "paper_bgcolor": "white",
          "plot_bgcolor": "#E5ECF6",
          "polar": {
           "angularaxis": {
            "gridcolor": "white",
            "linecolor": "white",
            "ticks": ""
           },
           "bgcolor": "#E5ECF6",
           "radialaxis": {
            "gridcolor": "white",
            "linecolor": "white",
            "ticks": ""
           }
          },
          "scene": {
           "xaxis": {
            "backgroundcolor": "#E5ECF6",
            "gridcolor": "white",
            "gridwidth": 2,
            "linecolor": "white",
            "showbackground": true,
            "ticks": "",
            "zerolinecolor": "white"
           },
           "yaxis": {
            "backgroundcolor": "#E5ECF6",
            "gridcolor": "white",
            "gridwidth": 2,
            "linecolor": "white",
            "showbackground": true,
            "ticks": "",
            "zerolinecolor": "white"
           },
           "zaxis": {
            "backgroundcolor": "#E5ECF6",
            "gridcolor": "white",
            "gridwidth": 2,
            "linecolor": "white",
            "showbackground": true,
            "ticks": "",
            "zerolinecolor": "white"
           }
          },
          "shapedefaults": {
           "line": {
            "color": "#2a3f5f"
           }
          },
          "ternary": {
           "aaxis": {
            "gridcolor": "white",
            "linecolor": "white",
            "ticks": ""
           },
           "baxis": {
            "gridcolor": "white",
            "linecolor": "white",
            "ticks": ""
           },
           "bgcolor": "#E5ECF6",
           "caxis": {
            "gridcolor": "white",
            "linecolor": "white",
            "ticks": ""
           }
          },
          "title": {
           "x": 0.05
          },
          "xaxis": {
           "automargin": true,
           "gridcolor": "white",
           "linecolor": "white",
           "ticks": "",
           "title": {
            "standoff": 15
           },
           "zerolinecolor": "white",
           "zerolinewidth": 2
          },
          "yaxis": {
           "automargin": true,
           "gridcolor": "white",
           "linecolor": "white",
           "ticks": "",
           "title": {
            "standoff": 15
           },
           "zerolinecolor": "white",
           "zerolinewidth": 2
          }
         }
        }
       }
      },
      "text/html": [
       "<div>                            <div id=\"5a7f9da6-4008-4bf5-8f13-41f61b169918\" class=\"plotly-graph-div\" style=\"height:525px; width:100%;\"></div>            <script type=\"text/javascript\">                require([\"plotly\"], function(Plotly) {                    window.PLOTLYENV=window.PLOTLYENV || {};                                    if (document.getElementById(\"5a7f9da6-4008-4bf5-8f13-41f61b169918\")) {                    Plotly.newPlot(                        \"5a7f9da6-4008-4bf5-8f13-41f61b169918\",                        [{\"labels\":[\"Not Fraud\",\"Fraud\"],\"values\":[912597,87403],\"type\":\"pie\"}],                        {\"template\":{\"data\":{\"histogram2dcontour\":[{\"type\":\"histogram2dcontour\",\"colorbar\":{\"outlinewidth\":0,\"ticks\":\"\"},\"colorscale\":[[0.0,\"#0d0887\"],[0.1111111111111111,\"#46039f\"],[0.2222222222222222,\"#7201a8\"],[0.3333333333333333,\"#9c179e\"],[0.4444444444444444,\"#bd3786\"],[0.5555555555555556,\"#d8576b\"],[0.6666666666666666,\"#ed7953\"],[0.7777777777777778,\"#fb9f3a\"],[0.8888888888888888,\"#fdca26\"],[1.0,\"#f0f921\"]]}],\"choropleth\":[{\"type\":\"choropleth\",\"colorbar\":{\"outlinewidth\":0,\"ticks\":\"\"}}],\"histogram2d\":[{\"type\":\"histogram2d\",\"colorbar\":{\"outlinewidth\":0,\"ticks\":\"\"},\"colorscale\":[[0.0,\"#0d0887\"],[0.1111111111111111,\"#46039f\"],[0.2222222222222222,\"#7201a8\"],[0.3333333333333333,\"#9c179e\"],[0.4444444444444444,\"#bd3786\"],[0.5555555555555556,\"#d8576b\"],[0.6666666666666666,\"#ed7953\"],[0.7777777777777778,\"#fb9f3a\"],[0.8888888888888888,\"#fdca26\"],[1.0,\"#f0f921\"]]}],\"heatmap\":[{\"type\":\"heatmap\",\"colorbar\":{\"outlinewidth\":0,\"ticks\":\"\"},\"colorscale\":[[0.0,\"#0d0887\"],[0.1111111111111111,\"#46039f\"],[0.2222222222222222,\"#7201a8\"],[0.3333333333333333,\"#9c179e\"],[0.4444444444444444,\"#bd3786\"],[0.5555555555555556,\"#d8576b\"],[0.6666666666666666,\"#ed7953\"],[0.7777777777777778,\"#fb9f3a\"],[0.8888888888888888,\"#fdca26\"],[1.0,\"#f0f921\"]]}],\"heatmapgl\":[{\"type\":\"heatmapgl\",\"colorbar\":{\"outlinewidth\":0,\"ticks\":\"\"},\"colorscale\":[[0.0,\"#0d0887\"],[0.1111111111111111,\"#46039f\"],[0.2222222222222222,\"#7201a8\"],[0.3333333333333333,\"#9c179e\"],[0.4444444444444444,\"#bd3786\"],[0.5555555555555556,\"#d8576b\"],[0.6666666666666666,\"#ed7953\"],[0.7777777777777778,\"#fb9f3a\"],[0.8888888888888888,\"#fdca26\"],[1.0,\"#f0f921\"]]}],\"contourcarpet\":[{\"type\":\"contourcarpet\",\"colorbar\":{\"outlinewidth\":0,\"ticks\":\"\"}}],\"contour\":[{\"type\":\"contour\",\"colorbar\":{\"outlinewidth\":0,\"ticks\":\"\"},\"colorscale\":[[0.0,\"#0d0887\"],[0.1111111111111111,\"#46039f\"],[0.2222222222222222,\"#7201a8\"],[0.3333333333333333,\"#9c179e\"],[0.4444444444444444,\"#bd3786\"],[0.5555555555555556,\"#d8576b\"],[0.6666666666666666,\"#ed7953\"],[0.7777777777777778,\"#fb9f3a\"],[0.8888888888888888,\"#fdca26\"],[1.0,\"#f0f921\"]]}],\"surface\":[{\"type\":\"surface\",\"colorbar\":{\"outlinewidth\":0,\"ticks\":\"\"},\"colorscale\":[[0.0,\"#0d0887\"],[0.1111111111111111,\"#46039f\"],[0.2222222222222222,\"#7201a8\"],[0.3333333333333333,\"#9c179e\"],[0.4444444444444444,\"#bd3786\"],[0.5555555555555556,\"#d8576b\"],[0.6666666666666666,\"#ed7953\"],[0.7777777777777778,\"#fb9f3a\"],[0.8888888888888888,\"#fdca26\"],[1.0,\"#f0f921\"]]}],\"mesh3d\":[{\"type\":\"mesh3d\",\"colorbar\":{\"outlinewidth\":0,\"ticks\":\"\"}}],\"scatter\":[{\"fillpattern\":{\"fillmode\":\"overlay\",\"size\":10,\"solidity\":0.2},\"type\":\"scatter\"}],\"parcoords\":[{\"type\":\"parcoords\",\"line\":{\"colorbar\":{\"outlinewidth\":0,\"ticks\":\"\"}}}],\"scatterpolargl\":[{\"type\":\"scatterpolargl\",\"marker\":{\"colorbar\":{\"outlinewidth\":0,\"ticks\":\"\"}}}],\"bar\":[{\"error_x\":{\"color\":\"#2a3f5f\"},\"error_y\":{\"color\":\"#2a3f5f\"},\"marker\":{\"line\":{\"color\":\"#E5ECF6\",\"width\":0.5},\"pattern\":{\"fillmode\":\"overlay\",\"size\":10,\"solidity\":0.2}},\"type\":\"bar\"}],\"scattergeo\":[{\"type\":\"scattergeo\",\"marker\":{\"colorbar\":{\"outlinewidth\":0,\"ticks\":\"\"}}}],\"scatterpolar\":[{\"type\":\"scatterpolar\",\"marker\":{\"colorbar\":{\"outlinewidth\":0,\"ticks\":\"\"}}}],\"histogram\":[{\"marker\":{\"pattern\":{\"fillmode\":\"overlay\",\"size\":10,\"solidity\":0.2}},\"type\":\"histogram\"}],\"scattergl\":[{\"type\":\"scattergl\",\"marker\":{\"colorbar\":{\"outlinewidth\":0,\"ticks\":\"\"}}}],\"scatter3d\":[{\"type\":\"scatter3d\",\"line\":{\"colorbar\":{\"outlinewidth\":0,\"ticks\":\"\"}},\"marker\":{\"colorbar\":{\"outlinewidth\":0,\"ticks\":\"\"}}}],\"scattermapbox\":[{\"type\":\"scattermapbox\",\"marker\":{\"colorbar\":{\"outlinewidth\":0,\"ticks\":\"\"}}}],\"scatterternary\":[{\"type\":\"scatterternary\",\"marker\":{\"colorbar\":{\"outlinewidth\":0,\"ticks\":\"\"}}}],\"scattercarpet\":[{\"type\":\"scattercarpet\",\"marker\":{\"colorbar\":{\"outlinewidth\":0,\"ticks\":\"\"}}}],\"carpet\":[{\"aaxis\":{\"endlinecolor\":\"#2a3f5f\",\"gridcolor\":\"white\",\"linecolor\":\"white\",\"minorgridcolor\":\"white\",\"startlinecolor\":\"#2a3f5f\"},\"baxis\":{\"endlinecolor\":\"#2a3f5f\",\"gridcolor\":\"white\",\"linecolor\":\"white\",\"minorgridcolor\":\"white\",\"startlinecolor\":\"#2a3f5f\"},\"type\":\"carpet\"}],\"table\":[{\"cells\":{\"fill\":{\"color\":\"#EBF0F8\"},\"line\":{\"color\":\"white\"}},\"header\":{\"fill\":{\"color\":\"#C8D4E3\"},\"line\":{\"color\":\"white\"}},\"type\":\"table\"}],\"barpolar\":[{\"marker\":{\"line\":{\"color\":\"#E5ECF6\",\"width\":0.5},\"pattern\":{\"fillmode\":\"overlay\",\"size\":10,\"solidity\":0.2}},\"type\":\"barpolar\"}],\"pie\":[{\"automargin\":true,\"type\":\"pie\"}]},\"layout\":{\"autotypenumbers\":\"strict\",\"colorway\":[\"#636efa\",\"#EF553B\",\"#00cc96\",\"#ab63fa\",\"#FFA15A\",\"#19d3f3\",\"#FF6692\",\"#B6E880\",\"#FF97FF\",\"#FECB52\"],\"font\":{\"color\":\"#2a3f5f\"},\"hovermode\":\"closest\",\"hoverlabel\":{\"align\":\"left\"},\"paper_bgcolor\":\"white\",\"plot_bgcolor\":\"#E5ECF6\",\"polar\":{\"bgcolor\":\"#E5ECF6\",\"angularaxis\":{\"gridcolor\":\"white\",\"linecolor\":\"white\",\"ticks\":\"\"},\"radialaxis\":{\"gridcolor\":\"white\",\"linecolor\":\"white\",\"ticks\":\"\"}},\"ternary\":{\"bgcolor\":\"#E5ECF6\",\"aaxis\":{\"gridcolor\":\"white\",\"linecolor\":\"white\",\"ticks\":\"\"},\"baxis\":{\"gridcolor\":\"white\",\"linecolor\":\"white\",\"ticks\":\"\"},\"caxis\":{\"gridcolor\":\"white\",\"linecolor\":\"white\",\"ticks\":\"\"}},\"coloraxis\":{\"colorbar\":{\"outlinewidth\":0,\"ticks\":\"\"}},\"colorscale\":{\"sequential\":[[0.0,\"#0d0887\"],[0.1111111111111111,\"#46039f\"],[0.2222222222222222,\"#7201a8\"],[0.3333333333333333,\"#9c179e\"],[0.4444444444444444,\"#bd3786\"],[0.5555555555555556,\"#d8576b\"],[0.6666666666666666,\"#ed7953\"],[0.7777777777777778,\"#fb9f3a\"],[0.8888888888888888,\"#fdca26\"],[1.0,\"#f0f921\"]],\"sequentialminus\":[[0.0,\"#0d0887\"],[0.1111111111111111,\"#46039f\"],[0.2222222222222222,\"#7201a8\"],[0.3333333333333333,\"#9c179e\"],[0.4444444444444444,\"#bd3786\"],[0.5555555555555556,\"#d8576b\"],[0.6666666666666666,\"#ed7953\"],[0.7777777777777778,\"#fb9f3a\"],[0.8888888888888888,\"#fdca26\"],[1.0,\"#f0f921\"]],\"diverging\":[[0,\"#8e0152\"],[0.1,\"#c51b7d\"],[0.2,\"#de77ae\"],[0.3,\"#f1b6da\"],[0.4,\"#fde0ef\"],[0.5,\"#f7f7f7\"],[0.6,\"#e6f5d0\"],[0.7,\"#b8e186\"],[0.8,\"#7fbc41\"],[0.9,\"#4d9221\"],[1,\"#276419\"]]},\"xaxis\":{\"gridcolor\":\"white\",\"linecolor\":\"white\",\"ticks\":\"\",\"title\":{\"standoff\":15},\"zerolinecolor\":\"white\",\"automargin\":true,\"zerolinewidth\":2},\"yaxis\":{\"gridcolor\":\"white\",\"linecolor\":\"white\",\"ticks\":\"\",\"title\":{\"standoff\":15},\"zerolinecolor\":\"white\",\"automargin\":true,\"zerolinewidth\":2},\"scene\":{\"xaxis\":{\"backgroundcolor\":\"#E5ECF6\",\"gridcolor\":\"white\",\"linecolor\":\"white\",\"showbackground\":true,\"ticks\":\"\",\"zerolinecolor\":\"white\",\"gridwidth\":2},\"yaxis\":{\"backgroundcolor\":\"#E5ECF6\",\"gridcolor\":\"white\",\"linecolor\":\"white\",\"showbackground\":true,\"ticks\":\"\",\"zerolinecolor\":\"white\",\"gridwidth\":2},\"zaxis\":{\"backgroundcolor\":\"#E5ECF6\",\"gridcolor\":\"white\",\"linecolor\":\"white\",\"showbackground\":true,\"ticks\":\"\",\"zerolinecolor\":\"white\",\"gridwidth\":2}},\"shapedefaults\":{\"line\":{\"color\":\"#2a3f5f\"}},\"annotationdefaults\":{\"arrowcolor\":\"#2a3f5f\",\"arrowhead\":0,\"arrowwidth\":1},\"geo\":{\"bgcolor\":\"white\",\"landcolor\":\"#E5ECF6\",\"subunitcolor\":\"white\",\"showland\":true,\"showlakes\":true,\"lakecolor\":\"white\"},\"title\":{\"x\":0.05},\"mapbox\":{\"style\":\"light\"}}}},                        {\"responsive\": true}                    ).then(function(){\n",
       "                            \n",
       "var gd = document.getElementById('5a7f9da6-4008-4bf5-8f13-41f61b169918');\n",
       "var x = new MutationObserver(function (mutations, observer) {{\n",
       "        var display = window.getComputedStyle(gd).display;\n",
       "        if (!display || display === 'none') {{\n",
       "            console.log([gd, 'removed!']);\n",
       "            Plotly.purge(gd);\n",
       "            observer.disconnect();\n",
       "        }}\n",
       "}});\n",
       "\n",
       "// Listen for the removal of the full notebook cells\n",
       "var notebookContainer = gd.closest('#notebook-container');\n",
       "if (notebookContainer) {{\n",
       "    x.observe(notebookContainer, {childList: true});\n",
       "}}\n",
       "\n",
       "// Listen for the clearing of the current output cell\n",
       "var outputEl = gd.closest('.output');\n",
       "if (outputEl) {{\n",
       "    x.observe(outputEl, {childList: true});\n",
       "}}\n",
       "\n",
       "                        })                };                });            </script>        </div>"
      ]
     },
     "metadata": {},
     "output_type": "display_data"
    }
   ],
   "source": [
    "distros = ['Not Fraud','Fraud']\n",
    "\n",
    "usage = (data['fraud'].value_counts())\n",
    "\n",
    "Data_Fraud\n",
    "\n",
    "\n",
    "fig = go.Figure(data=go.Pie(\n",
    "    labels=distros,\n",
    "    values=usage\n",
    "))\n",
    "fig.show()\n"
   ]
  },
  {
   "cell_type": "code",
   "execution_count": 29,
   "id": "f43c99d9",
   "metadata": {},
   "outputs": [
    {
     "data": {
      "text/plain": [
       "Text(0.5, 1.0, 'Credit Card Fraud Graph')"
      ]
     },
     "execution_count": 29,
     "metadata": {},
     "output_type": "execute_result"
    },
    {
     "data": {
      "image/png": "[encoded data removed]",
      "text/plain": [
       "<Figure size 600x1000 with 1 Axes>"
      ]
     },
     "metadata": {},
     "output_type": "display_data"
    }
   ],
   "source": [
    "plt.figure(figsize=(6,10))\n",
    "Data_Fraud.plot(kind='pie', ylabel=\"\", startangle=195, autopct='%1.1f%%',colors = [\"skyblue\", \"firebrick\"]\n",
    " ,labels = ['Not Fraud', 'Fraud'], explode = (0, 0.2), wedgeprops = {\"edgecolor\" : \"black\", \"linewidth\" : 1})\n",
    "\n",
    "plt.legend(title=\"Credit Card:\", loc=\"lower right\")\n",
    "\n",
    "plt.title(\"Credit Card Fraud Graph\")"
   ]
  },
  {
   "cell_type": "code",
   "execution_count": 30,
   "id": "546350e4",
   "metadata": {},
   "outputs": [
    {
     "data": {
      "text/plain": [
       "Text(0.5, 1.0, 'Was the transaction online?')"
      ]
     },
     "execution_count": 30,
     "metadata": {},
     "output_type": "execute_result"
    },
    {
     "data": {
      "image/png": "[encoded data removed]",
      "text/plain": [
       "<Figure size 2000x2000 with 4 Axes>"
      ]
     },
     "metadata": {},
     "output_type": "display_data"
    }
   ],
   "source": [
    "plt.figure(figsize = (20,20))\n",
    "\n",
    "plt.subplot(2,2,1)\n",
    "plt.pie(data[\"repeat_retailer\"].value_counts(), labels = (\"Yes\", \"No\"), autopct = \"%.2f%%\", explode = (0, 0.1),colors = [\"#808080\", \"#E9DCC9\"])\n",
    "plt.title(\"Did the credit card used at same retailer?\")\n",
    "\n",
    "plt.subplot(2,2,2)\n",
    "plt.pie(data[\"used_chip\"].value_counts(), labels = (\"Yes\", \"No\") , autopct = \"%.2f%%\", explode = (0, 0.1),\n",
    "        colors = [\"#808080\", \"#E9DCC9\"])\n",
    "plt.title(\"Did the credit card chip used?\")\n",
    "\n",
    "plt.subplot(2,2,3)\n",
    "plt.pie(data[\"used_pin_number\"].value_counts(), labels = (\"Yes\", \"No\"), autopct = \"%.2f%%\", explode = (0, 0.1),\n",
    "        colors = [\"#808080\", \"#E9DCC9\"])\n",
    "plt.title(\"Did the credit card pin number used?\")\n",
    "\n",
    "plt.subplot(2,2,4)\n",
    "plt.pie(data[\"online_order\"].value_counts(), labels = (\"Yes\", \"No\"), autopct = \"%.2f%%\", explode = (0, 0.1),\n",
    "        colors = [\"#808080\", \"#E9DCC9\"])\n",
    "plt.title(\"Was the transaction online?\")"
   ]
  },
  {
   "cell_type": "markdown",
   "id": "452a661d",
   "metadata": {},
   "source": [
    "# Models"
   ]
  },
  {
   "cell_type": "markdown",
   "id": "3e53be86",
   "metadata": {},
   "source": [
    "Decision Tree"
   ]
  },
  {
   "cell_type": "code",
   "execution_count": 31,
   "id": "426767a8",
   "metadata": {},
   "outputs": [],
   "source": [
    "treemodel = DecisionTreeClassifier()\n",
    "parameter= { 'criterion' :['gini','entropy', 'log_loss'] , 'max_depth' :[1,2,3,4,5] } #calculation Method"
   ]
  },
  {
   "cell_type": "code",
   "execution_count": 32,
   "id": "cc90f3fe",
   "metadata": {},
   "outputs": [],
   "source": [
    "from sklearn.model_selection import GridSearchCV # test every calculation method\n",
    "cv = GridSearchCV(treemodel,parameter,scoring='accuracy',cv=5)"
   ]
  },
  {
   "cell_type": "code",
   "execution_count": 33,
   "id": "36da81d4",
   "metadata": {},
   "outputs": [
    {
     "data": {
      "text/html": [
       "<style>#sk-container-id-1 {color: black;background-color: white;}#sk-container-id-1 pre{padding: 0;}#sk-container-id-1 div.sk-toggleable {background-color: white;}#sk-container-id-1 label.sk-toggleable__label {cursor: pointer;display: block;width: 100%;margin-bottom: 0;padding: 0.3em;box-sizing: border-box;text-align: center;}#sk-container-id-1 label.sk-toggleable__label-arrow:before {content: \"▸\";float: left;margin-right: 0.25em;color: #696969;}#sk-container-id-1 label.sk-toggleable__label-arrow:hover:before {color: black;}#sk-container-id-1 div.sk-estimator:hover label.sk-toggleable__label-arrow:before {color: black;}#sk-container-id-1 div.sk-toggleable__content {max-height: 0;max-width: 0;overflow: hidden;text-align: left;background-color: #f0f8ff;}#sk-container-id-1 div.sk-toggleable__content pre {margin: 0.2em;color: black;border-radius: 0.25em;background-color: #f0f8ff;}#sk-container-id-1 input.sk-toggleable__control:checked~div.sk-toggleable__content {max-height: 200px;max-width: 100%;overflow: auto;}#sk-container-id-1 input.sk-toggleable__control:checked~label.sk-toggleable__label-arrow:before {content: \"▾\";}#sk-container-id-1 div.sk-estimator input.sk-toggleable__control:checked~label.sk-toggleable__label {background-color: #d4ebff;}#sk-container-id-1 div.sk-label input.sk-toggleable__control:checked~label.sk-toggleable__label {background-color: #d4ebff;}#sk-container-id-1 input.sk-hidden--visually {border: 0;clip: rect(1px 1px 1px 1px);clip: rect(1px, 1px, 1px, 1px);height: 1px;margin: -1px;overflow: hidden;padding: 0;position: absolute;width: 1px;}#sk-container-id-1 div.sk-estimator {font-family: monospace;background-color: #f0f8ff;border: 1px dotted black;border-radius: 0.25em;box-sizing: border-box;margin-bottom: 0.5em;}#sk-container-id-1 div.sk-estimator:hover {background-color: #d4ebff;}#sk-container-id-1 div.sk-parallel-item::after {content: \"\";width: 100%;border-bottom: 1px solid gray;flex-grow: 1;}#sk-container-id-1 div.sk-label:hover label.sk-toggleable__label {background-color: #d4ebff;}#sk-container-id-1 div.sk-serial::before {content: \"\";position: absolute;border-left: 1px solid gray;box-sizing: border-box;top: 0;bottom: 0;left: 50%;z-index: 0;}#sk-container-id-1 div.sk-serial {display: flex;flex-direction: column;align-items: center;background-color: white;padding-right: 0.2em;padding-left: 0.2em;position: relative;}#sk-container-id-1 div.sk-item {position: relative;z-index: 1;}#sk-container-id-1 div.sk-parallel {display: flex;align-items: stretch;justify-content: center;background-color: white;position: relative;}#sk-container-id-1 div.sk-item::before, #sk-container-id-1 div.sk-parallel-item::before {content: \"\";position: absolute;border-left: 1px solid gray;box-sizing: border-box;top: 0;bottom: 0;left: 50%;z-index: -1;}#sk-container-id-1 div.sk-parallel-item {display: flex;flex-direction: column;z-index: 1;position: relative;background-color: white;}#sk-container-id-1 div.sk-parallel-item:first-child::after {align-self: flex-end;width: 50%;}#sk-container-id-1 div.sk-parallel-item:last-child::after {align-self: flex-start;width: 50%;}#sk-container-id-1 div.sk-parallel-item:only-child::after {width: 0;}#sk-container-id-1 div.sk-dashed-wrapped {border: 1px dashed gray;margin: 0 0.4em 0.5em 0.4em;box-sizing: border-box;padding-bottom: 0.4em;background-color: white;}#sk-container-id-1 div.sk-label label {font-family: monospace;font-weight: bold;display: inline-block;line-height: 1.2em;}#sk-container-id-1 div.sk-label-container {text-align: center;}#sk-container-id-1 div.sk-container {/* jupyter's `normalize.less` sets `[hidden] { display: none; }` but bootstrap.min.css set `[hidden] { display: none !important; }` so we also need the `!important` here to be able to override the default hidden behavior on the sphinx rendered scikit-learn.org. See: https://github.com/scikit-learn/scikit-learn/issues/21755 */display: inline-block !important;position: relative;}#sk-container-id-1 div.sk-text-repr-fallback {display: none;}</style><div id=\"sk-container-id-1\" class=\"sk-top-container\"><div class=\"sk-text-repr-fallback\"><pre>GridSearchCV(cv=5, estimator=DecisionTreeClassifier(),\n",
       "             param_grid={&#x27;criterion&#x27;: [&#x27;gini&#x27;, &#x27;entropy&#x27;, &#x27;log_loss&#x27;],\n",
       "                         &#x27;max_depth&#x27;: [1, 2, 3, 4, 5]},\n",
       "             scoring=&#x27;accuracy&#x27;)</pre><b>In a Jupyter environment, please rerun this cell to show the HTML representation or trust the notebook. <br />On GitHub, the HTML representation is unable to render, please try loading this page with nbviewer.org.</b></div><div class=\"sk-container\" hidden><div class=\"sk-item sk-dashed-wrapped\"><div class=\"sk-label-container\"><div class=\"sk-label sk-toggleable\"><input class=\"sk-toggleable__control sk-hidden--visually\" id=\"sk-estimator-id-1\" type=\"checkbox\" ><label for=\"sk-estimator-id-1\" class=\"sk-toggleable__label sk-toggleable__label-arrow\">GridSearchCV</label><div class=\"sk-toggleable__content\"><pre>GridSearchCV(cv=5, estimator=DecisionTreeClassifier(),\n",
       "             param_grid={&#x27;criterion&#x27;: [&#x27;gini&#x27;, &#x27;entropy&#x27;, &#x27;log_loss&#x27;],\n",
       "                         &#x27;max_depth&#x27;: [1, 2, 3, 4, 5]},\n",
       "             scoring=&#x27;accuracy&#x27;)</pre></div></div></div><div class=\"sk-parallel\"><div class=\"sk-parallel-item\"><div class=\"sk-item\"><div class=\"sk-label-container\"><div class=\"sk-label sk-toggleable\"><input class=\"sk-toggleable__control sk-hidden--visually\" id=\"sk-estimator-id-2\" type=\"checkbox\" ><label for=\"sk-estimator-id-2\" class=\"sk-toggleable__label sk-toggleable__label-arrow\">estimator: DecisionTreeClassifier</label><div class=\"sk-toggleable__content\"><pre>DecisionTreeClassifier()</pre></div></div></div><div class=\"sk-serial\"><div class=\"sk-item\"><div class=\"sk-estimator sk-toggleable\"><input class=\"sk-toggleable__control sk-hidden--visually\" id=\"sk-estimator-id-3\" type=\"checkbox\" ><label for=\"sk-estimator-id-3\" class=\"sk-toggleable__label sk-toggleable__label-arrow\">DecisionTreeClassifier</label><div class=\"sk-toggleable__content\"><pre>DecisionTreeClassifier()</pre></div></div></div></div></div></div></div></div></div></div>"
      ],
      "text/plain": [
       "GridSearchCV(cv=5, estimator=DecisionTreeClassifier(),\n",
       "             param_grid={'criterion': ['gini', 'entropy', 'log_loss'],\n",
       "                         'max_depth': [1, 2, 3, 4, 5]},\n",
       "             scoring='accuracy')"
      ]
     },
     "execution_count": 33,
     "metadata": {},
     "output_type": "execute_result"
    }
   ],
   "source": [
    "cv.fit(X_train,y_train)"
   ]
  },
  {
   "cell_type": "code",
   "execution_count": 34,
   "id": "ffd70d96",
   "metadata": {},
   "outputs": [
    {
     "data": {
      "text/plain": [
       "{'criterion': 'entropy', 'max_depth': 5}"
      ]
     },
     "execution_count": 34,
     "metadata": {},
     "output_type": "execute_result"
    }
   ],
   "source": [
    "cv.best_params_"
   ]
  },
  {
   "cell_type": "code",
   "execution_count": 35,
   "id": "6c5e2507",
   "metadata": {},
   "outputs": [],
   "source": [
    "y_predtree=cv.predict(X_test)"
   ]
  },
  {
   "cell_type": "code",
   "execution_count": 36,
   "id": "63c018fc",
   "metadata": {},
   "outputs": [
    {
     "name": "stdout",
     "output_type": "stream",
     "text": [
      "Accuracy is  0.999004\n"
     ]
    }
   ],
   "source": [
    "print(\"Accuracy is \",(accuracy_score(y_test,y_predtree)))"
   ]
  },
  {
   "cell_type": "markdown",
   "id": "94f96aee",
   "metadata": {},
   "source": [
    "Logistic Regression"
   ]
  },
  {
   "cell_type": "code",
   "execution_count": 37,
   "id": "f42556ec",
   "metadata": {},
   "outputs": [],
   "source": [
    "from sklearn.linear_model import LogisticRegression # Importing Logistic Regression"
   ]
  },
  {
   "cell_type": "code",
   "execution_count": 38,
   "id": "e3e2bb9f",
   "metadata": {},
   "outputs": [
    {
     "name": "stdout",
     "output_type": "stream",
     "text": [
      "Accuracy is  0.959164\n"
     ]
    }
   ],
   "source": [
    "LR = LogisticRegression(max_iter = 200)\n",
    "LR.fit(X_train, y_train)\n",
    "y_predLR = LR.predict(X_test)\n",
    "print(\"Accuracy is \",(accuracy_score(y_test,y_predLR)))"
   ]
  },
  {
   "cell_type": "code",
   "execution_count": 39,
   "id": "b2f8a8d5",
   "metadata": {},
   "outputs": [],
   "source": [
    "models = [\"Logistic Regression\", \"Decision Tree\"] # array carries models name "
   ]
  },
  {
   "cell_type": "code",
   "execution_count": 40,
   "id": "a799d103",
   "metadata": {},
   "outputs": [],
   "source": [
    "accuracy = [LR.score(X_test, y_test), metrics.accuracy_score(y_test, y_predtree)] # array carries accuracy scores"
   ]
  },
  {
   "cell_type": "code",
   "execution_count": 41,
   "id": "8faed40a",
   "metadata": {},
   "outputs": [
    {
     "data": {
      "text/html": [
       "<style type=\"text/css\">\n",
       "#T_7802c_row0_col0, #T_7802c_row0_col1, #T_7802c_row1_col0, #T_7802c_row1_col1 {\n",
       "  background-color: black;\n",
       "  color: lawngreen;\n",
       "  border-color: Black;\n",
       "}\n",
       "</style>\n",
       "<table id=\"T_7802c\">\n",
       "  <thead>\n",
       "    <tr>\n",
       "      <th class=\"blank level0\" >&nbsp;</th>\n",
       "      <th id=\"T_7802c_level0_col0\" class=\"col_heading level0 col0\" >    Model   Name     </th>\n",
       "      <th id=\"T_7802c_level0_col1\" class=\"col_heading level0 col1\" >Accuracy</th>\n",
       "    </tr>\n",
       "  </thead>\n",
       "  <tbody>\n",
       "    <tr>\n",
       "      <th id=\"T_7802c_level0_row0\" class=\"row_heading level0 row0\" >0</th>\n",
       "      <td id=\"T_7802c_row0_col0\" class=\"data row0 col0\" >Logistic Regression</td>\n",
       "      <td id=\"T_7802c_row0_col1\" class=\"data row0 col1\" >0.959164</td>\n",
       "    </tr>\n",
       "    <tr>\n",
       "      <th id=\"T_7802c_level0_row1\" class=\"row_heading level0 row1\" >1</th>\n",
       "      <td id=\"T_7802c_row1_col0\" class=\"data row1 col0\" >Decision Tree</td>\n",
       "      <td id=\"T_7802c_row1_col1\" class=\"data row1 col1\" >0.999004</td>\n",
       "    </tr>\n",
       "  </tbody>\n",
       "</table>\n"
      ],
      "text/plain": [
       "<pandas.io.formats.style.Styler at 0x228af08f460>"
      ]
     },
     "execution_count": 41,
     "metadata": {},
     "output_type": "execute_result"
    }
   ],
   "source": [
    "Table_of_Models = []\n",
    "Table_of_Models = pd.DataFrame(models, columns=[\"    Model   Name     \"])\n",
    "Table_of_Models[\"Accuracy\"] = accuracy\n",
    "Table_of_Models.style.set_properties(**{'background-color': 'black', 'color': 'lawngreen','border-color': 'Black'})"
   ]
  },
  {
   "cell_type": "code",
   "execution_count": null,
   "id": "212010d6",
   "metadata": {},
   "outputs": [],
   "source": []
  }
 ],
 "metadata": {
  "kernelspec": {
   "display_name": "Python 3 (ipykernel)",
   "language": "python",
   "name": "python3"
  },
  "language_info": {
   "codemirror_mode": {
    "name": "ipython",
    "version": 3
   },
   "file_extension": ".py",
   "mimetype": "text/x-python",
   "name": "python",
   "nbconvert_exporter": "python",
   "pygments_lexer": "ipython3",
   "version": "3.10.9"
  }
 },
 "nbformat": 4,
 "nbformat_minor": 5
}
